{
 "cells": [
  {
   "cell_type": "markdown",
   "metadata": {},
   "source": [
    "# urth-viz-chart Examples"
   ]
  },
  {
   "cell_type": "markdown",
   "metadata": {},
   "source": [
    "####Import dependencies"
   ]
  },
  {
   "cell_type": "code",
   "execution_count": null,
   "metadata": {
    "collapsed": true
   },
   "outputs": [],
   "source": [
    "import pandas as pd"
   ]
  },
  {
   "cell_type": "code",
   "execution_count": null,
   "metadata": {
    "collapsed": false
   },
   "outputs": [],
   "source": [
    "%%html\n",
    "<link rel='import' href='urth_components/urth-viz-chart/urth-viz-chart.html' is='urth-core-import'>"
   ]
  },
  {
   "cell_type": "markdown",
   "metadata": {},
   "source": [
    "### Example 1 - create a bar chart with static JSON data"
   ]
  },
  {
   "cell_type": "code",
   "execution_count": null,
   "metadata": {
    "collapsed": false
   },
   "outputs": [],
   "source": [
    "%%html\n",
    "<urth-viz-chart type='bar' datarows='[[\"a\",8,5],[\"b\",2,6],[\"c\",5,7]]' columns='[\"Index\",\"Series 1\",\"Series 2\"]'></urth-viz-chart>"
   ]
  },
  {
   "cell_type": "markdown",
   "metadata": {},
   "source": [
    "### Example 2 - create a line chart with static JSON data"
   ]
  },
  {
   "cell_type": "code",
   "execution_count": null,
   "metadata": {
    "collapsed": false
   },
   "outputs": [],
   "source": [
    "%%html\n",
    "<urth-viz-chart type='line' datarows='[[1,8,5],[2,2,6],[3,5,7]]' columns='[\"Index\",\"Series 1\",\"Series 2\"]'></urth-viz-chart>"
   ]
  },
  {
   "cell_type": "markdown",
   "metadata": {},
   "source": [
    "### Example 3 - create a pie chart with static JSON data"
   ]
  },
  {
   "cell_type": "code",
   "execution_count": null,
   "metadata": {
    "collapsed": false
   },
   "outputs": [],
   "source": [
    "%%html\n",
    "<urth-viz-chart type='pie' datarows='[[1,8,5],[2,2,6],[3,5,7]]' columns='[\"Index\",\"Series 1\",\"Series 2\"]'></urth-viz-chart>"
   ]
  },
  {
   "cell_type": "markdown",
   "metadata": {},
   "source": [
    "### Example 4 - create a bar chart bound to a Pandas DataFrame using `<urth-core-dataframe>`"
   ]
  },
  {
   "cell_type": "markdown",
   "metadata": {},
   "source": [
    "Initial DataFrame:"
   ]
  },
  {
   "cell_type": "code",
   "execution_count": null,
   "metadata": {
    "collapsed": true
   },
   "outputs": [],
   "source": [
    "aDataFrame1 = pd.DataFrame([\n",
    "        [1, 10, 5],\n",
    "        [2, 2, 6],\n",
    "        [3, 5, 7]\n",
    "    ], columns=[\"Index\", \"Series 1\", \"Series 2\"]\n",
    ")"
   ]
  },
  {
   "cell_type": "markdown",
   "metadata": {},
   "source": [
    "Share the dataframe contents in the 'x' property.  urth-viz-chart assumes first column is 'x' remaining ones are 'y' series, for now"
   ]
  },
  {
   "cell_type": "code",
   "execution_count": null,
   "metadata": {
    "collapsed": false
   },
   "outputs": [],
   "source": [
    "%%html\n",
    "<template id=\"tpl1\" is=\"dom-bind\">\n",
    "    <urth-core-dataframe id=\"f1\" ref=\"aDataFrame1\" value=\"{{df}}\" auto></urth-core-dataframe>\n",
    "    <urth-viz-chart id='c1' type='bar' datarows='{{df.data}}' columns='{{df.columns}}' selection='{{sel}}'></urth-viz-chart>\n",
    "    Selection is: \n",
    "        <ul>\n",
    "            <template is=\"dom-repeat\" items='{{sel}}'>\n",
    "                <li>x: <span>{{item.x}}</span> y: <span>{{item.y}}</span></li>\n",
    "            </template>\n",
    "        </ul>\n",
    "</template>"
   ]
  },
  {
   "cell_type": "markdown",
   "metadata": {},
   "source": [
    "Change the dataframe contents and chart will redraw"
   ]
  },
  {
   "cell_type": "code",
   "execution_count": null,
   "metadata": {
    "collapsed": true
   },
   "outputs": [],
   "source": [
    "aDataFrame1 = pd.DataFrame([\n",
    "        [1, 2, 5],\n",
    "        [2, 4, 4],\n",
    "        [3, 9, 3]\n",
    "    ], columns=[\"Index\", \"Series 1\", \"Series 2\"]\n",
    ")"
   ]
  },
  {
   "cell_type": "markdown",
   "metadata": {},
   "source": [
    "monitor read-only selection attribute"
   ]
  },
  {
   "cell_type": "code",
   "execution_count": null,
   "metadata": {
    "collapsed": false
   },
   "outputs": [],
   "source": [
    "%%html\n",
    "<script>\n",
    "c1.addEventListener('selection-changed', function(e) { s1.innerText = JSON.stringify(e.detail.value)});\n",
    "</script>\n",
    "<p>Selection: <span id=\"s1\"></span></p>"
   ]
  },
  {
   "cell_type": "markdown",
   "metadata": {},
   "source": [
    "### Example 5 - specify which column to use for X axis"
   ]
  },
  {
   "cell_type": "code",
   "execution_count": null,
   "metadata": {
    "collapsed": false
   },
   "outputs": [],
   "source": [
    "%%html\n",
    "<urth-viz-chart type='line' primary='2' datarows='[[1,8,5],[2,2,6],[3,5,7]]' columns='[\"Index\",\"Series 1\",\"Series 2\"]'></urth-viz-chart>"
   ]
  },
  {
   "cell_type": "markdown",
   "metadata": {
    "collapsed": true
   },
   "source": [
    "### Example 6 - rotate labels 45 degrees"
   ]
  },
  {
   "cell_type": "code",
   "execution_count": null,
   "metadata": {
    "collapsed": false
   },
   "outputs": [],
   "source": [
    "%%html\n",
    "<urth-viz-chart type='bar' rotatelabels='45' datarows='[[\"a\",8,5],[\"b\",2,6],[\"c\",5,7]]' columns='[\"Index\",\"Series 1\",\"Series 2\"]'></urth-viz-chart>"
   ]
  },
  {
   "cell_type": "markdown",
   "metadata": {
    "collapsed": true
   },
   "source": [
    "### Example 7 - override colors"
   ]
  },
  {
   "cell_type": "code",
   "execution_count": null,
   "metadata": {
    "collapsed": false
   },
   "outputs": [],
   "source": [
    "%%html\n",
    "<urth-viz-chart type='bar' \n",
    "   datarows='[[\"a\",8,5],[\"b\",2,6]]' \n",
    "   columns='[\"Index\",\"Series 1\",\"Series 2\"]' \n",
    "   palette='[\"green\",\"red\"]'\n",
    "></urth-viz-chart>"
   ]
  },
  {
   "cell_type": "markdown",
   "metadata": {},
   "source": [
    "### Example 8 - columns with types"
   ]
  },
  {
   "cell_type": "code",
   "execution_count": null,
   "metadata": {
    "collapsed": true
   },
   "outputs": [],
   "source": []
  },
  {
   "cell_type": "code",
   "execution_count": null,
   "metadata": {
    "collapsed": false
   },
   "outputs": [],
   "source": [
    "%%html\n",
    "<urth-viz-chart type='line' \n",
    "   datarows='[[\"2015-01-01T12:00\",8,5],[\"2015-03-01T12:00\",2,6],[\"2015-04-01T12:00\",5,7]]' \n",
    "   columns='[\"Index\",\"Series 1\",\"Series 2\"]'\n",
    ">\n",
    "  <urth-viz-col index=\"0\" type=\"date\" format=\"%b %d\"></urth-viz-col>\n",
    "  <urth-viz-col index=\"1\" type=\"numeric\" format=\"$,.2f\"></urth-viz-col>\n",
    "</urth-viz-chart>\n"
   ]
  }
 ],
 "metadata": {
  "kernelspec": {
   "display_name": "Python 3",
   "language": "python",
   "name": "python3"
  },
  "language_info": {
   "codemirror_mode": {
    "name": "ipython",
    "version": 3
   },
   "file_extension": ".py",
   "mimetype": "text/x-python",
   "name": "python",
   "nbconvert_exporter": "python",
   "pygments_lexer": "ipython3",
   "version": "3.4.3"
  }
 },
 "nbformat": 4,
 "nbformat_minor": 0
}
