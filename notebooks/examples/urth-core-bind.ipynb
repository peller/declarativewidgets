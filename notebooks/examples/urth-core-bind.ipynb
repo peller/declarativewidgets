{
 "cells": [
  {
   "cell_type": "markdown",
   "metadata": {},
   "source": [
    "### urth-core-bind Examples"
   ]
  },
  {
   "cell_type": "markdown",
   "metadata": {},
   "source": [
    "#### Example 1: Binding within cells\n",
    "\n",
    "The `urth-core-bind` element is used to upgrade a template to support data binding. \n",
    "In the below cell, the instances of `{{user}}` are exposed as two way binding properties that\n",
    "can be set and read from within the cell and from other cells. Run the below cell and input a value in the text box to\n",
    "see the `Hello` line updated."
   ]
  },
  {
   "cell_type": "code",
   "execution_count": null,
   "metadata": {
    "collapsed": false
   },
   "outputs": [],
   "source": [
    "%%html\n",
    "<template is='urth-core-bind'>\n",
    "    <div>Hello <span>{{user}}</span></div>\n",
    "    Name: <input value='{{user::input}}'></input>\n",
    "</template>"
   ]
  },
  {
   "cell_type": "markdown",
   "metadata": {},
   "source": [
    "#### Example 2: Binding between cells\n",
    "\n",
    "A template upgraded with `urth-core-bind` also enables data binding between cells. The following two cells both\n",
    "reference the `{{myuser}}` property. Running these cells, and changing the input value in either cell will update\n",
    "the other cell value accordingly."
   ]
  },
  {
   "cell_type": "code",
   "execution_count": null,
   "metadata": {
    "collapsed": false,
    "scrolled": true
   },
   "outputs": [],
   "source": [
    "%%html\n",
    "<template is='urth-core-bind'>\n",
    "    <div>Cell 1 User: <span>{{myuser}}</span></div>\n",
    "    Name: <input value='{{myuser::input}}'></input>\n",
    "</template>"
   ]
  },
  {
   "cell_type": "code",
   "execution_count": null,
   "metadata": {
    "collapsed": false,
    "scrolled": false
   },
   "outputs": [],
   "source": [
    "%%html\n",
    "<template is='urth-core-bind'>\n",
    "    <div>Cell 2 User: <span>{{myuser}}</span></div>\n",
    "    Name: <input value='{{myuser::input}}'></input>\n",
    "</template>"
   ]
  },
  {
   "cell_type": "markdown",
   "metadata": {},
   "source": [
    "#### Example 3: Programmatic bind API\n",
    "\n",
    "Bound data values can also be set and retrieved programmatically via javascript through the `window.UrthData` `setItem()` and `getItem()` methods. Run the following cells and notice that the output changes."
   ]
  },
  {
   "cell_type": "code",
   "execution_count": null,
   "metadata": {
    "collapsed": false,
    "scrolled": false
   },
   "outputs": [],
   "source": [
    "%%html\n",
    "<template is='urth-core-bind'>\n",
    "    <div><span>{{subject}}</span> is awesome&#33;</div>\n",
    "</template>"
   ]
  },
  {
   "cell_type": "code",
   "execution_count": null,
   "metadata": {
    "collapsed": false,
    "scrolled": false
   },
   "outputs": [],
   "source": [
    "%%javascript\n",
    "window.UrthData.setItem('subject', 'urth-core-bind');\n",
    "element.append('subject is: ' + window.UrthData.getItem('subject'));"
   ]
  },
  {
   "cell_type": "markdown",
   "metadata": {},
   "source": [
    "#### Example: Multiple Channels\n",
    "\n",
    "The `channel` attribute associates a template with a specific channel name. Only elements on this channel will receive access to values and updates to bound data values. If the `channel` attribute is not provided, the element will subscribe to the `global` channel.\n",
    "\n",
    "For instance, updates to the `{{user}}` value on channel `a` will not be visible by elements on channel `b`:"
   ]
  },
  {
   "cell_type": "code",
   "execution_count": null,
   "metadata": {
    "collapsed": false,
    "scrolled": false
   },
   "outputs": [],
   "source": [
    "%%html\n",
    "<template is='urth-core-bind' channel='a'>\n",
    "    <div>Hello <span>{{user}}</span></div>\n",
    "    Name: <input value='{{user::input}}'></input>\n",
    "</template>"
   ]
  },
  {
   "cell_type": "code",
   "execution_count": null,
   "metadata": {
    "collapsed": false,
    "scrolled": false
   },
   "outputs": [],
   "source": [
    "%%html\n",
    "<template is='urth-core-bind' channel='b'>\n",
    "    <div>Hello <span>{{user}}</span></div>\n",
    "    Name: <input value='{{user::input}}'></input>\n",
    "</template>"
   ]
  },
  {
   "cell_type": "markdown",
   "metadata": {
    "collapsed": true
   },
   "source": [
    "**Changing the channel**\n",
    "\n",
    "The channel is a bindable property. Changing the channel will change the data value updates that the element sends and receives.\n",
    "\n",
    "Change the channel, e.g. to `a` and notice that updates are synced with channel `a`."
   ]
  },
  {
   "cell_type": "code",
   "execution_count": null,
   "metadata": {
    "collapsed": false,
    "scrolled": false
   },
   "outputs": [],
   "source": [
    "%%html\n",
    "<template is='urth-core-bind' channel$=\"{{channel}}\">\n",
    "    <div>Hello <span>{{user}}</span></div>\n",
    "    Name: <input value='{{user::input}}'></input>\n",
    "    Channel: <select value='{{channel::input}}'>\n",
    "        <option>default</option>\n",
    "        <option>a</option>\n",
    "        <option>b</option>\n",
    "        </select>\n",
    "</template>"
   ]
  },
  {
   "cell_type": "markdown",
   "metadata": {},
   "source": [
    "#### Programmatic set API"
   ]
  },
  {
   "cell_type": "code",
   "execution_count": null,
   "metadata": {
    "collapsed": false,
    "scrolled": false
   },
   "outputs": [],
   "source": [
    "%%html\n",
    "<template is='urth-core-bind' channel='c'>\n",
    "    <div>Hello from <span>{{user}}</span></div>\n",
    "    Name: <input value='{{user::input}}'></input>\n",
    "</template>"
   ]
  },
  {
   "cell_type": "markdown",
   "metadata": {},
   "source": [
    "**JavaScript API**\n",
    "\n",
    "The channel name can be passed in as an argument. If no channel name is provided, the `default` channel will be used."
   ]
  },
  {
   "cell_type": "code",
   "execution_count": null,
   "metadata": {
    "collapsed": false,
    "scrolled": false
   },
   "outputs": [],
   "source": [
    "%%javascript\n",
    "window.UrthData.setItem('user', 'Javascript', 'c');"
   ]
  },
  {
   "cell_type": "markdown",
   "metadata": {},
   "source": [
    "#### Python API\n",
    "\n",
    "Channel properties can be set using the following Python API. If no channel name is provided, the `default` channel will be used."
   ]
  },
  {
   "cell_type": "code",
   "execution_count": null,
   "metadata": {
    "collapsed": false
   },
   "outputs": [],
   "source": [
    "from urth.widgets.widget_channels import channel"
   ]
  },
  {
   "cell_type": "code",
   "execution_count": null,
   "metadata": {
    "collapsed": false
   },
   "outputs": [],
   "source": [
    "channel('c').set('user', 'Python')"
   ]
  },
  {
   "cell_type": "markdown",
   "metadata": {},
   "source": [
    "Type in the input box for Name and then execute the cell above again. Should change back to 'Python'"
   ]
  },
  {
   "cell_type": "markdown",
   "metadata": {},
   "source": [
    "##### Using default channel"
   ]
  },
  {
   "cell_type": "code",
   "execution_count": null,
   "metadata": {
    "collapsed": false
   },
   "outputs": [],
   "source": [
    "%%html\n",
    "<template is='urth-core-bind'>\n",
    "    <div>Hello <span>{{name}}</span></div>\n",
    "</template>"
   ]
  },
  {
   "cell_type": "code",
   "execution_count": null,
   "metadata": {
    "collapsed": false
   },
   "outputs": [],
   "source": [
    "%%html\n",
    "<template id=\"foo\" is='urth-core-bind'>\n",
    "    <div>Goodbye <span>{{name}}</span></div>\n",
    "</template>"
   ]
  },
  {
   "cell_type": "code",
   "execution_count": null,
   "metadata": {
    "collapsed": true
   },
   "outputs": [],
   "source": [
    "channel().set('name', 'bean')"
   ]
  },
  {
   "cell_type": "code",
   "execution_count": null,
   "metadata": {
    "collapsed": true
   },
   "outputs": [],
   "source": [
    "channel('default').set('name', 'rice')"
   ]
  },
  {
   "cell_type": "markdown",
   "metadata": {},
   "source": [
    "##### Sending a complex object"
   ]
  },
  {
   "cell_type": "code",
   "execution_count": null,
   "metadata": {
    "collapsed": false
   },
   "outputs": [],
   "source": [
    "%%html\n",
    "<template is=\"urth-core-bind\">\n",
    "    <p>Columns: <span>{{df.columns}}</span></p>\n",
    "    <p>Index: <span>{{df.index}}</span></p>\n",
    "    <p>Data: <span>{{df.data}}</span></p>\n",
    "</template>"
   ]
  },
  {
   "cell_type": "code",
   "execution_count": null,
   "metadata": {
    "collapsed": false
   },
   "outputs": [],
   "source": [
    "import pandas as pd\n",
    "\n",
    "aDataFrame1 = pd.DataFrame([\n",
    "        [\"A\", 1],\n",
    "        [\"B\", 2]\n",
    "    ], columns=[\"Letter\", \"Number\"]\n",
    ")\n",
    "\n",
    "channel().set('df', aDataFrame1)"
   ]
  },
  {
   "cell_type": "markdown",
   "metadata": {
    "collapsed": true
   },
   "source": [
    "#### Variable Watching API\n",
    "\n",
    "Using the following Python API, you can `watch` a bound variable for changes and register a handler function to run on the kernel when a change occurs.\n",
    "\n",
    "The handler function should take two arguments, `old` and `new` representing the old value and the new value of the variable after a change occurs.\n",
    "\n",
    "In the following example, the `handler` will set the value of `{{msg}}` when the watched `x` variable changes. First, execute the following cells:"
   ]
  },
  {
   "cell_type": "code",
   "execution_count": null,
   "metadata": {
    "collapsed": false
   },
   "outputs": [],
   "source": [
    "%%html\n",
    "<link rel='import' href='urth_components/paper-slider/paper-slider.html'\n",
    "        is='urth-core-import' package='PolymerElements/paper-slider'>"
   ]
  },
  {
   "cell_type": "code",
   "execution_count": null,
   "metadata": {
    "collapsed": false
   },
   "outputs": [],
   "source": [
    "%%html\n",
    "<template is='urth-core-bind' channel='d'>\n",
    "    <span>{{x}}</span><paper-slider min=\"0\" max=\"100\" step=\"1\" value=\"{{x}}\"></paper-slider>\n",
    "    <span>{{msg}}</span>\n",
    "</template>"
   ]
  },
  {
   "cell_type": "code",
   "execution_count": null,
   "metadata": {
    "collapsed": true
   },
   "outputs": [],
   "source": [
    "from urth.widgets.widget_channels import channel"
   ]
  },
  {
   "cell_type": "code",
   "execution_count": null,
   "metadata": {
    "collapsed": false
   },
   "outputs": [],
   "source": [
    "history = []\n",
    "\n",
    "def handler(old, new):\n",
    "    msg = \"Hello from the kernel! Old: {} New: {}\".format(old, new)\n",
    "    history.append(msg)\n",
    "    channel('d').set('msg', msg)"
   ]
  },
  {
   "cell_type": "code",
   "execution_count": null,
   "metadata": {
    "collapsed": false
   },
   "outputs": [],
   "source": [
    "channel('d').watch('x', handler)"
   ]
  },
  {
   "cell_type": "markdown",
   "metadata": {},
   "source": [
    "Now move the slider, which changes `x` and in turn triggers `handler`. You should see the `msg` set in `handler` printed next to the slider.\n",
    "\n",
    "`handler` also modifies the `history` variable:"
   ]
  },
  {
   "cell_type": "code",
   "execution_count": null,
   "metadata": {
    "collapsed": false
   },
   "outputs": [],
   "source": [
    "history"
   ]
  },
  {
   "cell_type": "code",
   "execution_count": null,
   "metadata": {
    "collapsed": true
   },
   "outputs": [],
   "source": []
  }
 ],
 "metadata": {
  "kernelspec": {
   "display_name": "Python 3",
   "language": "python",
   "name": "python3"
  },
  "language_info": {
   "codemirror_mode": {
    "name": "ipython",
    "version": 3
   },
   "file_extension": ".py",
   "mimetype": "text/x-python",
   "name": "python",
   "nbconvert_exporter": "python",
   "pygments_lexer": "ipython3",
   "version": "3.4.3"
  }
 },
 "nbformat": 4,
 "nbformat_minor": 0
}
